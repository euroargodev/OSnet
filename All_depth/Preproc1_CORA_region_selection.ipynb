{
 "cells": [
  {
   "cell_type": "code",
   "execution_count": 1,
   "metadata": {},
   "outputs": [
    {
     "data": {
      "text/plain": [
       "'/home1/datahome/epauthen/NaN_profiles_gestion'"
      ]
     },
     "execution_count": 1,
     "metadata": {},
     "output_type": "execute_result"
    }
   ],
   "source": [
    "#Region selection for CORA RAW - July 2021\n",
    "import datetime as dt\n",
    "import glob\n",
    "import netCDF4 as nc\n",
    "import numpy as np\n",
    "import pandas as pd\n",
    "import os\n",
    "import matplotlib.pyplot as plt\n",
    "import numpy as np\n",
    "import numpy.ma as ma\n",
    "import xarray as xr\n",
    "import cmocean\n",
    "from gsw import sigma0\n",
    "import cartopy\n",
    "import cartopy.crs as ccrs\n",
    "import cartopy.feature as cfeature\n",
    "from cartopy.mpl.ticker import LongitudeFormatter, LatitudeFormatter\n",
    "from cartopy.mpl.gridliner import LONGITUDE_FORMATTER, LATITUDE_FORMATTER\n",
    "cartopy.config[\"data_dir\"] = './cartopy_shapefiles'\n",
    "\n",
    "os.getcwd()"
   ]
  },
  {
   "cell_type": "markdown",
   "metadata": {},
   "source": [
    "# Preselection of the Raw CORA profiles (INSITU_GLO_TS_REP_OBSERVATIONS_013_001_b)\n",
    "- CORA raw files without moorings MO.nc and drifting buoys DB.nc and TE.nc\n",
    "- select  profiles that contain PRES, TEMP and PSAL \n",
    "- adjusted variable if it exists\n",
    "- QC = 1 only for the three variables combined TEMP, PSAL and PRES\n",
    "- Gulf Stream region\n",
    "- Save the selected profiles in daily xarray dataset and netcdf (TEMP, PSAL, PRES, LON, LAT, JULD (ref to 1950-01-01), DC_REFERENCE, PLATFORM_NUMBER).\n",
    "\n",
    "--> Location of output : /home/datawork-lops-bluecloud/osnet/cora_raw_gulfstream/raw/"
   ]
  },
  {
   "cell_type": "code",
   "execution_count": 2,
   "metadata": {},
   "outputs": [
    {
     "name": "stdout",
     "output_type": "stream",
     "text": [
      "Extracted a total of 17215 TS profiles in the Gulf Stream Region, for the year 2011.\n",
      "Extracted a total of 22690 TS profiles in the Gulf Stream Region, for the year 2012.\n",
      "Extracted a total of 18836 TS profiles in the Gulf Stream Region, for the year 2013.\n",
      "Extracted a total of 14220 TS profiles in the Gulf Stream Region, for the year 2014.\n",
      "Extracted a total of 14072 TS profiles in the Gulf Stream Region, for the year 2015.\n",
      "Extracted a total of 17170 TS profiles in the Gulf Stream Region, for the year 2016.\n",
      "Extracted a total of 14194 TS profiles in the Gulf Stream Region, for the year 2017.\n",
      "Extracted a total of 16200 TS profiles in the Gulf Stream Region, for the year 2018.\n",
      "Extracted a total of 14690 TS profiles in the Gulf Stream Region, for the year 2019.\n",
      "Extracted a total of 14424 TS profiles in the Gulf Stream Region, for the year 2020.\n",
      "CPU times: user 9min 18s, sys: 1min 20s, total: 10min 38s\n",
      "Wall time: 33min 42s\n"
     ]
    }
   ],
   "source": [
    "%%time\n",
    "cora_rep = '/home/datawork-coriolis-cora-s/INSITU/global/'\n",
    "for yy in range(2011,2021):\n",
    "    listfile = set(glob.glob(cora_rep + str(yy) + '/CO_*.nc')) - set(glob.glob(cora_rep + str(yy) + '/*MO.nc')) - set(glob.glob(cora_rep + str(yy) + '/*TE.nc')) - set(glob.glob(cora_rep + str(yy) + '/*DB.nc'))\n",
    "    count = list()\n",
    "    for myfile in listfile:\n",
    "        filename = os.path.basename(myfile)\n",
    "        ds = nc.Dataset(myfile, 'r')  # r+\n",
    "        dm = ds.variables['DATA_MODE'][:]\n",
    "        dcref = ds.variables['DC_REFERENCE'][:,:]\n",
    "        lon   = ds.variables['LONGITUDE'][:]\n",
    "        lat   = ds.variables['LATITUDE'][:]\n",
    "        juld  = ds.variables['JULD'][:]\n",
    "        platform_number = ds.variables['PLATFORM_NUMBER'][:]\n",
    "        ind     = list()\n",
    "        mydcref = list()\n",
    "        mypfnum = list()\n",
    "        for ii in range(0,len(dm)):\n",
    "            suffix  =''\n",
    "            #REGION\n",
    "            if lon[ii]>=-85 and lon[ii]<=-20 and lat[ii]>=20 and lat[ii]<=60:\n",
    "                #ADJUSTED IF IT EXIST\n",
    "                if dm[ii] == b'A' or dm[ii] == b'D':\n",
    "                    suffix = '_ADJUSTED'\n",
    "                #TEMP AND PSAL AND PRES\n",
    "                if 'TEMP' in ds.variables.keys() and 'PSAL' in ds.variables.keys() and 'PRES' in ds.variables.keys():\n",
    "                    ind.append(ii)\n",
    "                    dc = b''.join(dcref[ii,dcref[ii,:].mask== False])\n",
    "                    dc = dc.decode('utf-8')\n",
    "                    mydcref.append(dc)\n",
    "                    pf = b''.join(platform_number[ii,platform_number[ii,:].mask== False])\n",
    "                    mypfnum.append(pf)\n",
    "        if len(ind)>0:\n",
    "            count.append(len(ind))\n",
    "            #RETRIEVE QC FOR ind AND CREATE MASK FROM IT\n",
    "            mask_TEMP = np.isin(ds.variables['TEMP' + suffix  + '_QC'][ind,:].data, b'1')\n",
    "            mask_PSAL = np.isin(ds.variables['PSAL' + suffix  + '_QC'][ind,:].data, b'1')\n",
    "            mask_PRES = np.isin(ds.variables['PRES' + suffix  + '_QC'][ind,:].data, b'1')\n",
    "            #MAKE A SINGLE MASK FROM THE COMBINED THREE OTHERS\n",
    "            mask = mask_TEMP & mask_PSAL & mask_PRES\n",
    "            #EXPORT IN DATASET XARRAY\n",
    "            dsxr = xr.Dataset(\n",
    "            data_vars=dict(\n",
    "                TEMP = ([\"N_PROF\",\"N_PRES\"], ma.masked_array(ds.variables['TEMP' + suffix ][ind,:], mask=~mask)),\n",
    "                PSAL = ([\"N_PROF\",\"N_PRES\"], ma.masked_array(ds.variables['PSAL' + suffix ][ind,:], mask=~mask)),\n",
    "                PRES = ([\"N_PROF\",\"N_PRES\"], ma.masked_array(ds.variables['PRES' + suffix ][ind,:], mask=~mask)),\n",
    "                DC_REFERENCE    = ([\"N_PROF\"], mydcref),\n",
    "                PLATFORM_NUMBER = ([\"N_PROF\"], mypfnum)\n",
    "            ),\n",
    "            coords=dict(\n",
    "                LON  = ([\"N_PROF\"], lon[ind]),\n",
    "                LAT  = ([\"N_PROF\"], lat[ind]),\n",
    "                JULD = ([\"N_PROF\"],juld[ind])\n",
    "            ),\n",
    "            attrs=dict(description=\"CORA subsampled : Selection of profiles with (1) TEMP, PSAL and PRES present, (2) adjusted data if adjusted exist and (3) in the Gulf Stream region (lon in [-80,-30], lat in [23,50]\"),\n",
    "            )\n",
    "            dsxr.JULD.attrs[\"units\"] = \"days since 1950-01-01\"\n",
    "            dsxr['DC_REFERENCE'] = dsxr['DC_REFERENCE'].astype('|S8')\n",
    "            dsxr.to_netcdf(\"/home/datawork-lops-bluecloud/osnet/data_cora_raw/raw_all_depth/\" + myfile[50:76] + \"_GulfStream.nc\")\n",
    "        ds.close()\n",
    "    print('Extracted a total of ' + str(sum(count)) + ' TS profiles in the Gulf Stream Region, for the year ' + str(yy) + '.')"
   ]
  },
  {
   "cell_type": "markdown",
   "metadata": {},
   "source": [
    "# Plot the TS profiles + TS diagram and Maps (to add in the loop if needed)\n",
    "- Reopen the netcdf to convert the date with xarray"
   ]
  },
  {
   "cell_type": "code",
   "execution_count": null,
   "metadata": {},
   "outputs": [],
   "source": [
    "        dsxr = xr.open_mfdataset(\"/Users/epauthenet/Documents/Database/CORA_GS/2019/\" + myfile[47:73] + \"_GulfStream.nc\")\n",
    "        plt.ioff()\n",
    "        ts = pd.to_datetime(dsxr.JULD.values[1]) \n",
    "        ts = ts.strftime('%Y.%m.%d')\n",
    "        fig, ax = plt.subplots(nrows=1, ncols=3, figsize=(10, 5), dpi=120, facecolor='w', edgecolor='k')\n",
    "        ax[0].scatter(dsxr.TEMP,-dsxr.PRES,s = 1)\n",
    "        ax[0].set_title(ts)\n",
    "        ax[0].grid()\n",
    "        ax[0].set_xlabel('Temperature')\n",
    "        ax[1].scatter(dsxr.PSAL,-dsxr.PRES,s = 1)\n",
    "        ax[1].grid()\n",
    "        ax[1].set_xlabel('Salinity')\n",
    "        ax[2].scatter(dsxr.PSAL,dsxr.TEMP,s = 1)\n",
    "        ax[2].grid()\n",
    "        ax[2].set_xlabel('Salinity')\n",
    "        ax[2].set_ylabel('Temperature')\n",
    "        plt.savefig(\"/Users/epauthenet/Documents/Database/CORA_GS/Figure/2019/\" + myfile[47:73] + \"_TS.jpg\")\n",
    "\n",
    "        ax = plt.axes(projection=ccrs.PlateCarree())\n",
    "        ax.set_extent([-80, -20, 23, 55], ccrs.PlateCarree())\n",
    "        ax.scatter(dsxr.LON,dsxr.LAT,s = 1)\n",
    "        ax.add_feature(cfeature.LAND)\n",
    "        ax.add_feature(cfeature.COASTLINE)\n",
    "        ax.set_title(ts)\n",
    "        gl = ax.gridlines(draw_labels=True, dms=True, x_inline=False, y_inline=False,linewidth=.5, color='gray', alpha=0.5, linestyle='--')\n",
    "        gl.top_labels = False\n",
    "        gl.right_labels = False\n",
    "        plt.savefig(\"/Users/epauthenet/Documents/Database/CORA_GS/Figure/2019/\" + myfile[47:73] + \"_map.jpg\")\n",
    "        dsxr.close()"
   ]
  }
 ],
 "metadata": {
  "kernelspec": {
   "display_name": "Python 3 (ipykernel)",
   "language": "python",
   "name": "python3"
  },
  "language_info": {
   "codemirror_mode": {
    "name": "ipython",
    "version": 3
   },
   "file_extension": ".py",
   "mimetype": "text/x-python",
   "name": "python",
   "nbconvert_exporter": "python",
   "pygments_lexer": "ipython3",
   "version": "3.8.8"
  }
 },
 "nbformat": 4,
 "nbformat_minor": 4
}
