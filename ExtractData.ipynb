{
 "cells": [
  {
   "cell_type": "code",
   "execution_count": 1,
   "metadata": {},
   "outputs": [],
   "source": [
    "#Exploration of New product - September 2021\n",
    "#Section with PCs and with Levels\n",
    "import datetime as dt \n",
    "import glob\n",
    "import netCDF4 as nc\n",
    "import numpy as np\n",
    "import os\n",
    "\n",
    "import math\n",
    "\n",
    "import matplotlib.pyplot as plt\n",
    "import numpy as np\n",
    "import pandas as pd\n",
    "import xarray as xr\n",
    "import cmocean\n",
    "import time\n",
    "import gsw\n",
    "\n",
    "import yaml\n",
    "\n",
    "\n",
    "import numpy as np\n",
    "from scipy.signal import savgol_filter\n",
    "import matplotlib.pyplot as plt\n"
   ]
  },
  {
   "cell_type": "code",
   "execution_count": null,
   "metadata": {},
   "outputs": [],
   "source": [
    "with open(r'configuration.yaml') as file:\n",
    "    configuration = yaml.load(file, Loader=yaml.FullLoader)\n",
    "\n",
    "    print(\"File version: \", configuration[\"version\"])"
   ]
  }
 ],
 "metadata": {
  "kernelspec": {
   "display_name": "Python [conda env:OsNetex]",
   "language": "python",
   "name": "conda-env-OsNetex-py"
  },
  "language_info": {
   "codemirror_mode": {
    "name": "ipython",
    "version": 3
   },
   "file_extension": ".py",
   "mimetype": "text/x-python",
   "name": "python",
   "nbconvert_exporter": "python",
   "pygments_lexer": "ipython3",
   "version": "3.10.4"
  }
 },
 "nbformat": 4,
 "nbformat_minor": 4
}
